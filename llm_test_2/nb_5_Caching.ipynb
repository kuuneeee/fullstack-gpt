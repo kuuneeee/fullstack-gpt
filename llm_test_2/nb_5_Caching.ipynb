{
 "cells": [
  {
   "cell_type": "code",
   "execution_count": 8,
   "metadata": {},
   "outputs": [],
   "source": [
    "from langchain.chat_models import ChatOpenAI\n",
    "from langchain.callbacks import StreamingStdOutCallbackHandler\n",
    "from langchain.prompts import PromptTemplate\n",
    "\n",
    "from langchain.globals import set_llm_cache, set_debug\n",
    "from langchain.cache import InMemoryCache, SQLiteCache\n",
    "\n",
    "\n",
    "chat = ChatOpenAI(\n",
    "    model_name=\"gpt-3.5-turbo-1106\",\n",
    "    temperature=0.1,\n",
    "    # streaming=True,\n",
    "    # callbacks=[\n",
    "    #     StreamingStdOutCallbackHandler(),\n",
    "    # ],\n",
    ")"
   ]
  },
  {
   "cell_type": "code",
   "execution_count": 2,
   "metadata": {},
   "outputs": [],
   "source": [
    "# 메모리 모듈\n",
    "# 비용 절약 목적\n",
    "# caching을 사용하면 LM(언어모델)의 응답을 저장할 수 있음\n",
    "# 챗봇이 항상 똑같은 질문을 받는다면, 계속 답변을 만들지 않고 이미 답변한 답을 캐싱을 이용해서 저장하여 재사용 -> 비용 절약"
   ]
  },
  {
   "cell_type": "code",
   "execution_count": 3,
   "metadata": {},
   "outputs": [],
   "source": [
    "set_llm_cache(InMemoryCache())\n",
    "# 이렇게 하면 모든 response가 메모리에 저장됨"
   ]
  },
  {
   "cell_type": "code",
   "execution_count": 4,
   "metadata": {},
   "outputs": [
    {
     "data": {
      "text/plain": [
       "'1. Start by bringing a large pot of water to a boil. Add a generous amount of salt to the water.\\n\\n2. Once the water is boiling, add the pasta to the pot. Use about 4-6 ounces of pasta per person.\\n\\n3. Stir the pasta occasionally to prevent it from sticking together. Cook the pasta according to the package instructions, usually around 8-12 minutes for dried pasta.\\n\\n4. While the pasta is cooking, prepare the sauce or topping of your choice. This could be a simple tomato sauce, a creamy Alfredo sauce, or a pesto sauce.\\n\\n5. Once the pasta is al dente (firm to the bite), drain it in a colander, reserving a small amount of the pasta water.\\n\\n6. Return the pasta to the pot and add the sauce, tossing to coat the pasta evenly. If the sauce is too thick, you can add a little bit of the reserved pasta water to thin it out.\\n\\n7. Serve the pasta hot, topped with grated Parmesan cheese and fresh herbs if desired.\\n\\n8. Enjoy your delicious Italian pasta!'"
      ]
     },
     "execution_count": 4,
     "metadata": {},
     "output_type": "execute_result"
    }
   ],
   "source": [
    "chat.predict(\"How do you make italian pasta\")  # 3.3s 첫번째 답변 시간"
   ]
  },
  {
   "cell_type": "code",
   "execution_count": 5,
   "metadata": {},
   "outputs": [
    {
     "data": {
      "text/plain": [
       "'1. Start by bringing a large pot of water to a boil. Add a generous amount of salt to the water.\\n\\n2. Once the water is boiling, add the pasta to the pot. Use about 4-6 ounces of pasta per person.\\n\\n3. Stir the pasta occasionally to prevent it from sticking together. Cook the pasta according to the package instructions, usually around 8-12 minutes for dried pasta.\\n\\n4. While the pasta is cooking, prepare the sauce or topping of your choice. This could be a simple tomato sauce, a creamy Alfredo sauce, or a pesto sauce.\\n\\n5. Once the pasta is al dente (firm to the bite), drain it in a colander, reserving a small amount of the pasta water.\\n\\n6. Return the pasta to the pot and add the sauce, tossing to coat the pasta evenly. If the sauce is too thick, you can add a little bit of the reserved pasta water to thin it out.\\n\\n7. Serve the pasta hot, topped with grated Parmesan cheese and fresh herbs if desired.\\n\\n8. Enjoy your delicious Italian pasta!'"
      ]
     },
     "execution_count": 5,
     "metadata": {},
     "output_type": "execute_result"
    }
   ],
   "source": [
    "chat.predict(\n",
    "    \"How do you make italian pasta\"\n",
    ")  # 0.0s 두번째 답변 시간 -> caching으로 시간 단축"
   ]
  },
  {
   "cell_type": "code",
   "execution_count": 10,
   "metadata": {},
   "outputs": [],
   "source": [
    "# set_debug(True)"
   ]
  },
  {
   "cell_type": "code",
   "execution_count": 7,
   "metadata": {},
   "outputs": [
    {
     "name": "stdout",
     "output_type": "stream",
     "text": [
      "\u001b[32;1m\u001b[1;3m[llm/start]\u001b[0m \u001b[1m[1:llm:ChatOpenAI] Entering LLM run with input:\n",
      "\u001b[0m{\n",
      "  \"prompts\": [\n",
      "    \"Human: How do you make italian pasta\"\n",
      "  ]\n",
      "}\n",
      "\u001b[36;1m\u001b[1;3m[llm/end]\u001b[0m \u001b[1m[1:llm:ChatOpenAI] [0ms] Exiting LLM run with output:\n",
      "\u001b[0m{\n",
      "  \"generations\": [\n",
      "    [\n",
      "      {\n",
      "        \"text\": \"1. Start by bringing a large pot of water to a boil. Add a generous amount of salt to the water.\\n\\n2. Once the water is boiling, add the pasta to the pot. Use about 4-6 ounces of pasta per person.\\n\\n3. Stir the pasta occasionally to prevent it from sticking together. Cook the pasta according to the package instructions, usually around 8-12 minutes for dried pasta.\\n\\n4. While the pasta is cooking, prepare the sauce or topping of your choice. This could be a simple tomato sauce, a creamy Alfredo sauce, or a pesto sauce.\\n\\n5. Once the pasta is al dente (firm to the bite), drain it in a colander, reserving a small amount of the pasta water.\\n\\n6. Return the pasta to the pot and add the sauce, tossing to coat the pasta evenly. If the sauce is too thick, you can add a little bit of the reserved pasta water to thin it out.\\n\\n7. Serve the pasta hot, topped with grated Parmesan cheese and fresh herbs if desired.\\n\\n8. Enjoy your delicious Italian pasta!\",\n",
      "        \"generation_info\": {\n",
      "          \"finish_reason\": \"stop\"\n",
      "        },\n",
      "        \"type\": \"ChatGeneration\",\n",
      "        \"message\": {\n",
      "          \"lc\": 1,\n",
      "          \"type\": \"constructor\",\n",
      "          \"id\": [\n",
      "            \"langchain\",\n",
      "            \"schema\",\n",
      "            \"messages\",\n",
      "            \"AIMessage\"\n",
      "          ],\n",
      "          \"kwargs\": {\n",
      "            \"content\": \"1. Start by bringing a large pot of water to a boil. Add a generous amount of salt to the water.\\n\\n2. Once the water is boiling, add the pasta to the pot. Use about 4-6 ounces of pasta per person.\\n\\n3. Stir the pasta occasionally to prevent it from sticking together. Cook the pasta according to the package instructions, usually around 8-12 minutes for dried pasta.\\n\\n4. While the pasta is cooking, prepare the sauce or topping of your choice. This could be a simple tomato sauce, a creamy Alfredo sauce, or a pesto sauce.\\n\\n5. Once the pasta is al dente (firm to the bite), drain it in a colander, reserving a small amount of the pasta water.\\n\\n6. Return the pasta to the pot and add the sauce, tossing to coat the pasta evenly. If the sauce is too thick, you can add a little bit of the reserved pasta water to thin it out.\\n\\n7. Serve the pasta hot, topped with grated Parmesan cheese and fresh herbs if desired.\\n\\n8. Enjoy your delicious Italian pasta!\",\n",
      "            \"additional_kwargs\": {}\n",
      "          }\n",
      "        }\n",
      "      }\n",
      "    ]\n",
      "  ],\n",
      "  \"llm_output\": null,\n",
      "  \"run\": null\n",
      "}\n"
     ]
    },
    {
     "data": {
      "text/plain": [
       "'1. Start by bringing a large pot of water to a boil. Add a generous amount of salt to the water.\\n\\n2. Once the water is boiling, add the pasta to the pot. Use about 4-6 ounces of pasta per person.\\n\\n3. Stir the pasta occasionally to prevent it from sticking together. Cook the pasta according to the package instructions, usually around 8-12 minutes for dried pasta.\\n\\n4. While the pasta is cooking, prepare the sauce or topping of your choice. This could be a simple tomato sauce, a creamy Alfredo sauce, or a pesto sauce.\\n\\n5. Once the pasta is al dente (firm to the bite), drain it in a colander, reserving a small amount of the pasta water.\\n\\n6. Return the pasta to the pot and add the sauce, tossing to coat the pasta evenly. If the sauce is too thick, you can add a little bit of the reserved pasta water to thin it out.\\n\\n7. Serve the pasta hot, topped with grated Parmesan cheese and fresh herbs if desired.\\n\\n8. Enjoy your delicious Italian pasta!'"
      ]
     },
     "execution_count": 7,
     "metadata": {},
     "output_type": "execute_result"
    }
   ],
   "source": [
    "chat.predict(\"How do you make italian pasta\")\n",
    "# set_debug하면 무슨 일을 하고 있는지에 대한 로그 같은걸 보여줌"
   ]
  },
  {
   "cell_type": "code",
   "execution_count": 9,
   "metadata": {},
   "outputs": [],
   "source": [
    "# 데이터베이스에 캐싱\n",
    "set_llm_cache(SQLiteCache(\"cache.db\"))\n",
    "# cache.db라는 이름으로 파일이 만들어짐 -> 데이터베이스 경로에 캐싱하는거\n",
    "\n",
    "# SQLiteCache 말고 다양한 데이터베이스 캐시가 있음\n",
    "# langchain document로 가서 integration으로 들어가면 모든 써드파티 제공업체들을 볼 수 있음\n",
    "# 여러 종류의 캐싱을 지원하는 것들이 있음 -> loader 등등"
   ]
  },
  {
   "cell_type": "code",
   "execution_count": 12,
   "metadata": {},
   "outputs": [
    {
     "name": "stdout",
     "output_type": "stream",
     "text": [
      "\u001b[32;1m\u001b[1;3m[llm/start]\u001b[0m \u001b[1m[1:llm:ChatOpenAI] Entering LLM run with input:\n",
      "\u001b[0m{\n",
      "  \"prompts\": [\n",
      "    \"Human: How do you make italian pasta\"\n",
      "  ]\n",
      "}\n",
      "\u001b[36;1m\u001b[1;3m[llm/end]\u001b[0m \u001b[1m[1:llm:ChatOpenAI] [1ms] Exiting LLM run with output:\n",
      "\u001b[0m{\n",
      "  \"generations\": [\n",
      "    [\n",
      "      {\n",
      "        \"text\": \"1. Boil a large pot of water and add a generous amount of salt.\\n2. Add the pasta to the boiling water and cook according to the package instructions, usually around 8-12 minutes for dried pasta or 2-4 minutes for fresh pasta.\\n3. While the pasta is cooking, prepare the sauce or topping of your choice. This could be a simple tomato sauce, a creamy Alfredo sauce, or a pesto sauce.\\n4. Once the pasta is cooked to your desired level of doneness, drain it in a colander and return it to the pot.\\n5. Add the sauce or topping to the pot with the pasta and toss to combine, ensuring that the pasta is evenly coated.\\n6. Serve the pasta in individual bowls or on a large platter, and garnish with grated cheese, fresh herbs, or a drizzle of olive oil, if desired. Enjoy!\",\n",
      "        \"generation_info\": {\n",
      "          \"finish_reason\": \"stop\"\n",
      "        },\n",
      "        \"type\": \"ChatGeneration\",\n",
      "        \"message\": {\n",
      "          \"lc\": 1,\n",
      "          \"type\": \"constructor\",\n",
      "          \"id\": [\n",
      "            \"langchain\",\n",
      "            \"schema\",\n",
      "            \"messages\",\n",
      "            \"AIMessage\"\n",
      "          ],\n",
      "          \"kwargs\": {\n",
      "            \"content\": \"1. Boil a large pot of water and add a generous amount of salt.\\n2. Add the pasta to the boiling water and cook according to the package instructions, usually around 8-12 minutes for dried pasta or 2-4 minutes for fresh pasta.\\n3. While the pasta is cooking, prepare the sauce or topping of your choice. This could be a simple tomato sauce, a creamy Alfredo sauce, or a pesto sauce.\\n4. Once the pasta is cooked to your desired level of doneness, drain it in a colander and return it to the pot.\\n5. Add the sauce or topping to the pot with the pasta and toss to combine, ensuring that the pasta is evenly coated.\\n6. Serve the pasta in individual bowls or on a large platter, and garnish with grated cheese, fresh herbs, or a drizzle of olive oil, if desired. Enjoy!\",\n",
      "            \"additional_kwargs\": {}\n",
      "          }\n",
      "        }\n",
      "      }\n",
      "    ]\n",
      "  ],\n",
      "  \"llm_output\": null,\n",
      "  \"run\": null\n",
      "}\n"
     ]
    },
    {
     "data": {
      "text/plain": [
       "'1. Boil a large pot of water and add a generous amount of salt.\\n2. Add the pasta to the boiling water and cook according to the package instructions, usually around 8-12 minutes for dried pasta or 2-4 minutes for fresh pasta.\\n3. While the pasta is cooking, prepare the sauce or topping of your choice. This could be a simple tomato sauce, a creamy Alfredo sauce, or a pesto sauce.\\n4. Once the pasta is cooked to your desired level of doneness, drain it in a colander and return it to the pot.\\n5. Add the sauce or topping to the pot with the pasta and toss to combine, ensuring that the pasta is evenly coated.\\n6. Serve the pasta in individual bowls or on a large platter, and garnish with grated cheese, fresh herbs, or a drizzle of olive oil, if desired. Enjoy!'"
      ]
     },
     "execution_count": 12,
     "metadata": {},
     "output_type": "execute_result"
    }
   ],
   "source": [
    "chat.predict(\"How do you make italian pasta\")"
   ]
  }
 ],
 "metadata": {
  "kernelspec": {
   "display_name": "env",
   "language": "python",
   "name": "python3"
  },
  "language_info": {
   "codemirror_mode": {
    "name": "ipython",
    "version": 3
   },
   "file_extension": ".py",
   "mimetype": "text/x-python",
   "name": "python",
   "nbconvert_exporter": "python",
   "pygments_lexer": "ipython3",
   "version": "3.11.6"
  }
 },
 "nbformat": 4,
 "nbformat_minor": 2
}

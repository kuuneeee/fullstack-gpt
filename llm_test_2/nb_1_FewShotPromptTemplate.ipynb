{
 "cells": [
  {
   "cell_type": "code",
   "execution_count": 12,
   "metadata": {},
   "outputs": [],
   "source": [
    "from langchain.chat_models import ChatOpenAI\n",
    "from langchain.prompts import PromptTemplate\n",
    "from langchain.prompts.few_shot import FewShotPromptTemplate\n",
    "from langchain.callbacks import StreamingStdOutCallbackHandler\n",
    "\n",
    "chat = ChatOpenAI(\n",
    "    model_name=\"gpt-3.5-turbo-1106\",\n",
    "    temperature=0.1,\n",
    "    streaming=True,\n",
    "    callbacks=[\n",
    "        StreamingStdOutCallbackHandler(),\n",
    "    ],\n",
    ")"
   ]
  },
  {
   "cell_type": "code",
   "execution_count": null,
   "metadata": {},
   "outputs": [],
   "source": [
    "# t = PromptTemplate.from_template(\"What is the capital of {country}?\")\n",
    "# # 이처럼 템플릿을 만들어서 입력할 수 있음 -> 템플릿을 만들어서 사용하면 유효성 검사를 할 수 있다는 장점이 있음\n",
    "# # 또, 템플릿을 사용하는 이유중 하나는 promt template을 디스크에 저장하고 로드할 수 있기 때문\n",
    "# # .from_template는 short cut\n",
    "\n",
    "# # # short cut을 사용하지 않으면 이렇게 쓸 수 있음\n",
    "# # t = PromptTemplate(\n",
    "# #     template=\"What is the capital of {country}?\",\n",
    "# #     input_variables=[\"country\"],\n",
    "# # )\n",
    "\n",
    "# t.format(country=\"France\")"
   ]
  },
  {
   "cell_type": "code",
   "execution_count": 7,
   "metadata": {},
   "outputs": [],
   "source": [
    "# 기본적으로 fewshot은 모델에게 예제를 주는 건데\n",
    "# 더 나은 대답을 할 수 있도록 하는 예제들을 더 줄 수 있다는 거\n",
    "\n",
    "# 구체적으로 대답하는 AI 모델이 필요하다고 할때, 어떻게 대답해야 하는지에 대한 예제를 주는것이 prompt를 사용해서 어떻게 대답해야 하는지 알려주는 것보다 좋음\n",
    "# 즉, prompt에서 콤마써서 구분해줘, 소문자만 써야돼 등등 해서 넣는거보다 하나의 텍스트 예제를 입력해주는게 좋다는 말 -> 어차피 모델은 텍스트를 만들기 때문에\n",
    "# FewShotPromptTemplate은 이런 예제를 FewShot 예제로 해주는거\n",
    "\n",
    "# 예제들을 통해서 형식화(format)할 수 있음 -> 예제들이 DB에 있을수도 있기 때문에\n",
    "# CS 챗봇을 만든다고 할때,\n",
    "# 많은 고객들과의 대화 기록이나 다른 많은 기록들이 있을 거고, 모델이 어떻게 고객들에게 대응하는지 알려주고 싶을 거\n",
    "# 대화기록 같은 것들을 DB에서 가져와서 FewShotPtomptTemplate을 사용하여 형식화하면 더 빠르게 Prompt를 만들 수 있을 것"
   ]
  },
  {
   "cell_type": "code",
   "execution_count": 8,
   "metadata": {},
   "outputs": [],
   "source": [
    "examples = [\n",
    "    {\n",
    "        \"question\": \"What do you know about France?\",\n",
    "        \"answer\": \"\"\"\n",
    "Here is what I know:\n",
    "Capital: Paris\n",
    "Language: French\n",
    "Food: Wine and Cheese\n",
    "Currency: Euro\n",
    "\"\"\",\n",
    "    },\n",
    "    {\n",
    "        \"question\": \"What do you know about Italy?\",\n",
    "        \"answer\": \"\"\"\n",
    "I know this:\n",
    "Capital: Rome\n",
    "Language: Italian\n",
    "Food: Pizza and Pasta\n",
    "Currency: Euro\n",
    "\"\"\",\n",
    "    },\n",
    "    {\n",
    "        \"question\": \"What do you know about Greece?\",\n",
    "        \"answer\": \"\"\"\n",
    "I know this:\n",
    "Capital: Athens\n",
    "Language: Greek\n",
    "Food: Souvlaki and Feta Cheese\n",
    "Currency: Euro\n",
    "\"\"\",\n",
    "    },\n",
    "]"
   ]
  },
  {
   "cell_type": "code",
   "execution_count": 10,
   "metadata": {},
   "outputs": [
    {
     "name": "stdout",
     "output_type": "stream",
     "text": [
      "France is a country located in Western Europe. It is known for its rich history, culture, and contributions to art, literature, and philosophy. The capital city is Paris, which is famous for landmarks such as the Eiffel Tower, Notre-Dame Cathedral, and the Louvre Museum. France is also known for its cuisine, including dishes such as croissants, baguettes, and coq au vin. The country has a diverse landscape, including the Alps in the east, the Mediterranean coast in the south, and the Atlantic coastline in the west. France is also a founding member of the European Union and a permanent member of the United Nations Security Council."
     ]
    },
    {
     "data": {
      "text/plain": [
       "'France is a country located in Western Europe. It is known for its rich history, culture, and contributions to art, literature, and philosophy. The capital city is Paris, which is famous for landmarks such as the Eiffel Tower, Notre-Dame Cathedral, and the Louvre Museum. France is also known for its cuisine, including dishes such as croissants, baguettes, and coq au vin. The country has a diverse landscape, including the Alps in the east, the Mediterranean coast in the south, and the Atlantic coastline in the west. France is also a founding member of the European Union and a permanent member of the United Nations Security Council.'"
      ]
     },
     "execution_count": 10,
     "metadata": {},
     "output_type": "execute_result"
    }
   ],
   "source": [
    "# FewShotPromptTemplate 안썼을때\n",
    "chat.predict(\"What do you know about France?\")"
   ]
  },
  {
   "cell_type": "code",
   "execution_count": 20,
   "metadata": {},
   "outputs": [
    {
     "data": {
      "text/plain": [
       "'\\nHuman: What do you know about France?\\nAI: \\nHere is what I know:\\nCapital: Paris\\nLanguage: French\\nFood: Wine and Cheese\\nCurrency: Euro\\n\\n\\n\\n\\nHuman: What do you know about Italy?\\nAI: \\nI know this:\\nCapital: Rome\\nLanguage: Italian\\nFood: Pizza and Pasta\\nCurrency: Euro\\n\\n\\n\\n\\nHuman: What do you know about Greece?\\nAI: \\nI know this:\\nCapital: Athens\\nLanguage: Greek\\nFood: Souvlaki and Feta Cheese\\nCurrency: Euro\\n\\n\\n\\nHuman : What do you know about Germany?'"
      ]
     },
     "execution_count": 20,
     "metadata": {},
     "output_type": "execute_result"
    }
   ],
   "source": [
    "# FewShotPromptTemplate 썼을때\n",
    "# example 안에 있는 키값과 같은 걸로 넣어줘야 함\n",
    "example_template = \"\"\"\n",
    "Human: {question}\n",
    "AI: {answer}\n",
    "\"\"\"\n",
    "\n",
    "example_prompt = PromptTemplate.from_template(example_template)\n",
    "\n",
    "prompt = FewShotPromptTemplate(\n",
    "    examples=examples,  # 예제들을 가져오고\n",
    "    example_prompt=example_prompt,  # 예제들을 형식화하고\n",
    "    suffix=\"Human : What do you know about {country}?\",  # 형식화된 모든 예제 마지막에 나오는 내용 -> 한번 다 형식화가 끝나고 사용자의 질문은 무엇인지 나오게끔\n",
    "    input_variables=[\"country\"],  # 유효성 검사를 위해서 입력변수 지정\n",
    ")\n",
    "\n",
    "prompt.format(country=\"Germany\")"
   ]
  },
  {
   "cell_type": "code",
   "execution_count": 17,
   "metadata": {},
   "outputs": [
    {
     "name": "stdout",
     "output_type": "stream",
     "text": [
      "AI: \n",
      "I know this:\n",
      "Capital: Seoul\n",
      "Language: Korean\n",
      "Food: Kimchi and Bibimbap\n",
      "Currency: South Korean won"
     ]
    },
    {
     "data": {
      "text/plain": [
       "AIMessageChunk(content='AI: \\nI know this:\\nCapital: Seoul\\nLanguage: Korean\\nFood: Kimchi and Bibimbap\\nCurrency: South Korean won')"
      ]
     },
     "execution_count": 17,
     "metadata": {},
     "output_type": "execute_result"
    }
   ],
   "source": [
    "chain = prompt | chat\n",
    "chain.invoke(\n",
    "    {\n",
    "        \"country\": \"Korea\",\n",
    "    }\n",
    ")"
   ]
  },
  {
   "cell_type": "code",
   "execution_count": null,
   "metadata": {},
   "outputs": [],
   "source": []
  }
 ],
 "metadata": {
  "kernelspec": {
   "display_name": "env",
   "language": "python",
   "name": "python3"
  },
  "language_info": {
   "codemirror_mode": {
    "name": "ipython",
    "version": 3
   },
   "file_extension": ".py",
   "mimetype": "text/x-python",
   "name": "python",
   "nbconvert_exporter": "python",
   "pygments_lexer": "ipython3",
   "version": "3.11.6"
  }
 },
 "nbformat": 4,
 "nbformat_minor": 2
}

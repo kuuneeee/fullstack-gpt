{
 "cells": [
  {
   "cell_type": "code",
   "execution_count": 1,
   "metadata": {},
   "outputs": [],
   "source": [
    "from langchain.chat_models import ChatOpenAI\n",
    "from langchain.prompts import ChatPromptTemplate\n",
    "\n",
    "chat = ChatOpenAI(\n",
    "    model_name=\"gpt-3.5-turbo-1106\",\n",
    "    temperature=0.1,  # 창의적인 정도, 0~1 : 1에 가까울수록 창의적이고 무작위성을 가짐\n",
    "    # max_tokens=5000,\n",
    ")"
   ]
  },
  {
   "cell_type": "code",
   "execution_count": 2,
   "metadata": {},
   "outputs": [],
   "source": [
    "# OutputParser & LangChain expression language(표현언어)\n",
    "# LangChain expression language는 코드를 많이 줄여 줄 수 있음\n",
    "# 또한, 다양한 template과 LLM 호출, 그리고 서로 다른 응답(response)을 함께 사용하게 해줌 -> Orchestration : 오케스트레이션\n",
    "\n",
    "# OutputParser가 필요한 이유 -> LLM의 응답(response)을 변형해야 할 때가 있기 때문"
   ]
  },
  {
   "cell_type": "code",
   "execution_count": 25,
   "metadata": {},
   "outputs": [
    {
     "data": {
      "text/plain": [
       "['Hello', 'how', 'are', 'you']"
      ]
     },
     "execution_count": 25,
     "metadata": {},
     "output_type": "execute_result"
    }
   ],
   "source": [
    "# OutputParser\n",
    "\n",
    "from langchain.schema import BaseOutputParser\n",
    "\n",
    "\n",
    "class CommaOutputParser(BaseOutputParser):\n",
    "    # def parse(self, text):\n",
    "    #     # OutputParser는 항상 parse 메서드가 필요함\n",
    "    #     # text로 전체 텍스트를 입력받음\n",
    "    #     return text.strip().split(\",\")\n",
    "    #     # .strip()은 앞뒤 공백을 잘라내줌\n",
    "    #     # , comma를 기준으로 잘라서 array로 만듦\n",
    "\n",
    "    def parse(self, text):\n",
    "        items = text.strip().split(\",\")\n",
    "        return list(map(str.strip, items))\n",
    "\n",
    "\n",
    "p = CommaOutputParser()\n",
    "\n",
    "# p.parse(\"Hello, how are you\") # -> ['Hello', ' how are you']\n",
    "# p.parse(\" Hello, how, are, you \") # -> ['Hello', ' how', ' are', ' you'] : 전체 텍스트의 앞뒤 공백은 잘라지지만 ,로 분할된 부분에서는 공백이 그대로 있음\n",
    "p.parse(\n",
    "    \" Hello, how, are, you \"\n",
    ")  # -> ['Hello', 'how', 'are', 'you'] : ,로 분할된 부분도 공백 잘라주기"
   ]
  },
  {
   "cell_type": "code",
   "execution_count": 20,
   "metadata": {},
   "outputs": [
    {
     "data": {
      "text/plain": [
       "['red',\n",
       " 'blue',\n",
       " 'green',\n",
       " 'yellow',\n",
       " 'orange',\n",
       " 'purple',\n",
       " 'pink',\n",
       " 'black',\n",
       " 'white',\n",
       " 'brown']"
      ]
     },
     "execution_count": 20,
     "metadata": {},
     "output_type": "execute_result"
    }
   ],
   "source": [
    "# Template\n",
    "template = ChatPromptTemplate.from_messages(\n",
    "    [\n",
    "        (\n",
    "            \"system\",\n",
    "            \"You are a list generating machine. Everything you are asked will be answered with a comma separated list of max {max_items} in lowercase. Do NOT reply with anything else.\",\n",
    "        ),\n",
    "        (\"human\", \"{question}\"),\n",
    "    ]\n",
    ")\n",
    "\n",
    "# Prompt\n",
    "prompt = template.format_messages(max_items=10, question=\"What are the colors?\")\n",
    "\n",
    "result = chat.predict_messages(\n",
    "    prompt\n",
    ")  # AIMessage(content='red, blue, green, yellow, orange, purple, pink, black, white, brown')\n",
    "\n",
    "# OutputParser\n",
    "p = CommaOutputParser()\n",
    "\n",
    "p.parse(result.content)"
   ]
  },
  {
   "cell_type": "code",
   "execution_count": 21,
   "metadata": {},
   "outputs": [],
   "source": [
    "# LangChain expression language\n",
    "# chat model, OuputParser, template만 사용\n",
    "\n",
    "template = ChatPromptTemplate.from_messages(\n",
    "    [\n",
    "        (\n",
    "            \"system\",\n",
    "            \"You are a list generating machine. Everything you are asked will be answered with a comma separated list of max {max_items} in lowercase. Do NOT reply with anything else.\",\n",
    "        ),\n",
    "        (\"human\", \"{question}\"),\n",
    "    ]\n",
    ")"
   ]
  },
  {
   "cell_type": "code",
   "execution_count": 26,
   "metadata": {},
   "outputs": [
    {
     "data": {
      "text/plain": [
       "['pikachu', 'charmander', 'bulbasaur', 'squirtle', 'jigglypuff']"
      ]
     },
     "execution_count": 26,
     "metadata": {},
     "output_type": "execute_result"
    }
   ],
   "source": [
    "# chain\n",
    "# chain은 기본적으로 모든 요소들을 합쳐주는 역할을 함\n",
    "# 처음에는 template를 입력하고, 그 다음으로는 '|' 기호를 사용할 거임\n",
    "\n",
    "chain = template | chat | CommaOutputParser()  # | 로 실행단계를 연결해서 명시해주는 거\n",
    "\n",
    "chain.invoke(\n",
    "    {\"max_items\": 5, \"question\": \"What are the pokemons?\"}\n",
    ")  # 실행 : 입력값 dict\n",
    "\n",
    "# chain끼리, chain들과 outputparser 등도 | 로 연결할 수 있음"
   ]
  },
  {
   "cell_type": "code",
   "execution_count": null,
   "metadata": {},
   "outputs": [],
   "source": []
  }
 ],
 "metadata": {
  "kernelspec": {
   "display_name": "env",
   "language": "python",
   "name": "python3"
  },
  "language_info": {
   "codemirror_mode": {
    "name": "ipython",
    "version": 3
   },
   "file_extension": ".py",
   "mimetype": "text/x-python",
   "name": "python",
   "nbconvert_exporter": "python",
   "pygments_lexer": "ipython3",
   "version": "3.11.6"
  }
 },
 "nbformat": 4,
 "nbformat_minor": 2
}

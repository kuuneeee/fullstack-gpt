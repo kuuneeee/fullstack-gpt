{
 "cells": [
  {
   "cell_type": "code",
   "execution_count": 3,
   "metadata": {},
   "outputs": [],
   "source": [
    "from langchain.chat_models import ChatOpenAI\n",
    "\n",
    "chat = ChatOpenAI(\n",
    "    model_name=\"gpt-3.5-turbo-1106\",\n",
    "    temperature=0.1,  # 창의적인 정도, 0~1 : 1에 가까울수록 창의적이고 무작위성을 가짐\n",
    "    # max_tokens=5000,\n",
    ")"
   ]
  },
  {
   "cell_type": "code",
   "execution_count": 4,
   "metadata": {},
   "outputs": [
    {
     "data": {
      "text/plain": [
       "AIMessage(content='La distanza tra il Messico e la Thailandia è di circa 16.000 chilometri. Il mio nome è Paolo.')"
      ]
     },
     "execution_count": 4,
     "metadata": {},
     "output_type": "execute_result"
    }
   ],
   "source": [
    "# nb_1에서는 text를 predict하는 것을 다뤘음 -> 질문하면 답하는걸로\n",
    "# 이번에는 messages를 predict하는 것을 할 거\n",
    "# 그러려면 message constructor를 import 해야함\n",
    "\n",
    "from langchain.schema import HumanMessage, AIMessage, SystemMessage\n",
    "\n",
    "# HumanMessage : 인간이 보내는 Message\n",
    "# AIMessege : AI가 보내는 Message\n",
    "# SystemMessage : 우리가 LLM에 설정들을 제공하기 위한 Message\n",
    "\n",
    "messages = [\n",
    "    SystemMessage(\n",
    "        content=\"You are a geography expert. And you only reply in Italian.\",\n",
    "    ),\n",
    "    # 일종의 기본 설정, 기본 값, 기본 context 설정을 한 것\n",
    "    AIMessage(content=\"Ciao, mi chiamo Paolo!\"),\n",
    "    # String을 미리 만들어두고 일종의 가상 대화를 설정한 것\n",
    "    HumanMessage(\n",
    "        content=\"What is the distance between Mexico and Thailand. Also, what is your name?\",\n",
    "    ),\n",
    "    # 그리고 나서 사용자로서 질문\n",
    "]\n",
    "# 이게 prompt\n",
    "\n",
    "\n",
    "chat.predict_messages(messages)"
   ]
  }
 ],
 "metadata": {
  "kernelspec": {
   "display_name": "env",
   "language": "python",
   "name": "python3"
  },
  "language_info": {
   "codemirror_mode": {
    "name": "ipython",
    "version": 3
   },
   "file_extension": ".py",
   "mimetype": "text/x-python",
   "name": "python",
   "nbconvert_exporter": "python",
   "pygments_lexer": "ipython3",
   "version": "3.11.6"
  }
 },
 "nbformat": 4,
 "nbformat_minor": 2
}

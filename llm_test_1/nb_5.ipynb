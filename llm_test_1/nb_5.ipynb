{
 "cells": [
  {
   "cell_type": "code",
   "execution_count": 1,
   "metadata": {},
   "outputs": [],
   "source": [
    "from langchain.chat_models import ChatOpenAI\n",
    "from langchain.prompts import ChatPromptTemplate\n",
    "from langchain.schema import BaseOutputParser\n",
    "from langchain.callbacks import StreamingStdOutCallbackHandler"
   ]
  },
  {
   "cell_type": "code",
   "execution_count": 2,
   "metadata": {},
   "outputs": [],
   "source": [
    "chat = ChatOpenAI(\n",
    "    model_name=\"gpt-3.5-turbo-1106\",\n",
    "    temperature=0.1,  # 창의적인 정도, 0~1 : 1에 가까울수록 창의적이고 무작위성을 가짐\n",
    "    # max_tokens=5000,\n",
    "    streaming=True,\n",
    "    callbacks=[StreamingStdOutCallbackHandler()],\n",
    ")"
   ]
  },
  {
   "cell_type": "code",
   "execution_count": 17,
   "metadata": {},
   "outputs": [],
   "source": [
    "chef_prompt = ChatPromptTemplate.from_messages(\n",
    "    [\n",
    "        (\n",
    "            \"system\",\n",
    "            \"You are a world-class internataional chef. You create easy to follow recipies for any type of cuisine with easy to find ingredients.\",\n",
    "        ),\n",
    "        (\"human\", \"I want to cook {cuisine} food.\"),\n",
    "    ]\n",
    ")\n",
    "\n",
    "chef_chain = chef_prompt | chat"
   ]
  },
  {
   "cell_type": "code",
   "execution_count": 18,
   "metadata": {},
   "outputs": [],
   "source": [
    "veg_chef_prompt = ChatPromptTemplate.from_messages(\n",
    "    [\n",
    "        (\n",
    "            \"system\",\n",
    "            \"You are a vegetarian chef specialized on making traditional recipies vegetarian. You find alternative ingredients and explain their preparation. You don't radically modify the recipe. If there is no alternative for a food just say you don't know to replace it.\",\n",
    "        ),\n",
    "        (\"human\", \"{recipe}\"),\n",
    "    ]\n",
    ")\n",
    "# You don't radically modify the recipe. -> chef_prompt에서 전달받은 초기 레시피를 완전히 바꾸는 경우를 방지\n",
    "# If there is no alternative for a food just say you don't know to replace it. -> hallucination 방지 문장\n",
    "\n",
    "veg_chain = veg_chef_prompt | chat"
   ]
  },
  {
   "cell_type": "code",
   "execution_count": 20,
   "metadata": {},
   "outputs": [
    {
     "name": "stdout",
     "output_type": "stream",
     "text": [
      "Great choice! How about trying a classic Indian dish like Chicken Tikka Masala? Here's a simple recipe for you to try at home:\n",
      "\n",
      "Ingredients:\n",
      "- 1 lb (450g) boneless, skinless chicken thighs, cut into bite-sized pieces\n",
      "- 1 cup plain yogurt\n",
      "- 3 cloves garlic, minced\n",
      "- 1 tbsp grated fresh ginger\n",
      "- 1 tbsp garam masala\n",
      "- 1 tsp ground cumin\n",
      "- 1 tsp ground coriander\n",
      "- 1/2 tsp turmeric\n",
      "- 1/2 tsp cayenne pepper (adjust to taste)\n",
      "- Salt to taste\n",
      "- 2 tbsp vegetable oil\n",
      "- 1 onion, finely chopped\n",
      "- 1 can (14 oz) crushed tomatoes\n",
      "- 1 cup heavy cream\n",
      "- Fresh cilantro, chopped (for garnish)\n",
      "- Cooked rice or naan bread (for serving)\n",
      "\n",
      "Instructions:\n",
      "1. In a large bowl, combine the yogurt, garlic, ginger, garam masala, cumin, coriander, turmeric, cayenne pepper, and salt. Add the chicken pieces and toss to coat. Cover and marinate in the refrigerator for at least 1 hour, or overnight for best results.\n",
      "\n",
      "2. Preheat the broiler to high. Thread the marinated chicken pieces onto skewers and place them on a broiler pan. Broil for 12-15 minutes, turning once, until the chicken is cooked through and slightly charred around the edges.\n",
      "\n",
      "3. In a large skillet, heat the vegetable oil over medium heat. Add the chopped onion and cook until softened, about 5 minutes.\n",
      "\n",
      "4. Stir in the crushed tomatoes and simmer for 10 minutes, stirring occasionally.\n",
      "\n",
      "5. Add the broiled chicken pieces to the skillet and stir to combine with the tomato sauce. Simmer for another 10 minutes.\n",
      "\n",
      "6. Stir in the heavy cream and simmer for an additional 5 minutes, until the sauce has thickened slightly.\n",
      "\n",
      "7. Taste and adjust the seasoning if needed. Garnish with chopped cilantro.\n",
      "\n",
      "8. Serve the Chicken Tikka Masala over cooked rice or with naan bread.\n",
      "\n",
      "Enjoy your homemade Indian feast!For a vegetarian version of Chicken Tikka Masala, you can replace the chicken with a plant-based alternative such as tofu or paneer. Here's how you can prepare the tofu or paneer to use in this recipe:\n",
      "\n",
      "For Tofu:\n",
      "- Use extra-firm tofu and press it to remove excess moisture. To do this, wrap the block of tofu in a clean kitchen towel or paper towels, place it on a plate, and then place a heavy object on top (like a cast iron skillet or a few heavy books). Let it sit for about 30 minutes, then cut it into bite-sized pieces and proceed with the recipe as you would with the chicken.\n",
      "\n",
      "For Paneer:\n",
      "- If you prefer to use paneer, you can either make it at home or purchase it from a store. Cut the paneer into bite-sized pieces and proceed with the recipe as you would with the chicken.\n",
      "\n",
      "By using tofu or paneer as a substitute for the chicken, you can enjoy a delicious vegetarian version of Chicken Tikka Masala."
     ]
    },
    {
     "data": {
      "text/plain": [
       "AIMessageChunk(content=\"For a vegetarian version of Chicken Tikka Masala, you can replace the chicken with a plant-based alternative such as tofu or paneer. Here's how you can prepare the tofu or paneer to use in this recipe:\\n\\nFor Tofu:\\n- Use extra-firm tofu and press it to remove excess moisture. To do this, wrap the block of tofu in a clean kitchen towel or paper towels, place it on a plate, and then place a heavy object on top (like a cast iron skillet or a few heavy books). Let it sit for about 30 minutes, then cut it into bite-sized pieces and proceed with the recipe as you would with the chicken.\\n\\nFor Paneer:\\n- If you prefer to use paneer, you can either make it at home or purchase it from a store. Cut the paneer into bite-sized pieces and proceed with the recipe as you would with the chicken.\\n\\nBy using tofu or paneer as a substitute for the chicken, you can enjoy a delicious vegetarian version of Chicken Tikka Masala.\")"
      ]
     },
     "execution_count": 20,
     "metadata": {},
     "output_type": "execute_result"
    }
   ],
   "source": [
    "# final_chain = chef_chain | veg_chain\n",
    "\n",
    "# final_chain.invoke({\n",
    "#     \"cuisine\" : \"indian\",\n",
    "# })\n",
    "\n",
    "# 입력값은 cuisine, recipe\n",
    "# cuisine은 chef_chain에 입력되고 그 output이 veg_chain의 recipe로 입력되어야 함\n",
    "# 그러기 위해서는 chef_chain의 output이 recipe라는 걸 알려줘야 함\n",
    "\n",
    "final_chain = {\"recipe\": chef_chain} | veg_chain\n",
    "# 이렇게 해서 chain 간에 context object를 입력한 것\n",
    "# {\"recipe\": chef_chain} 형태는 lagnchain의 언어 같은거 : RunnableMap -> 응답 결과를 다음 체인으로 전달\n",
    "# invoke는 해당 체인에 인자 값을 넣어주는 역할\n",
    "\n",
    "final_chain.invoke(\n",
    "    {\n",
    "        \"cuisine\": \"indian\",\n",
    "    }\n",
    ")"
   ]
  },
  {
   "cell_type": "code",
   "execution_count": null,
   "metadata": {},
   "outputs": [],
   "source": []
  }
 ],
 "metadata": {
  "kernelspec": {
   "display_name": "env",
   "language": "python",
   "name": "python3"
  },
  "language_info": {
   "codemirror_mode": {
    "name": "ipython",
    "version": 3
   },
   "file_extension": ".py",
   "mimetype": "text/x-python",
   "name": "python",
   "nbconvert_exporter": "python",
   "pygments_lexer": "ipython3",
   "version": "3.11.6"
  }
 },
 "nbformat": 4,
 "nbformat_minor": 2
}

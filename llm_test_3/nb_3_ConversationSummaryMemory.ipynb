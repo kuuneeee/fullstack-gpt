{
 "cells": [
  {
   "cell_type": "code",
   "execution_count": 1,
   "metadata": {},
   "outputs": [],
   "source": [
    "from langchain.chat_models import ChatOpenAI\n",
    "\n",
    "from langchain.memory import ConversationSummaryMemory"
   ]
  },
  {
   "cell_type": "code",
   "execution_count": 5,
   "metadata": {},
   "outputs": [],
   "source": [
    "# langchain에는 5가지 종류의 메모리가 있음\n",
    "# 챗봇에 메모리를 추가하지 않으면 챗봇은 아무것도 기억할 수 없음\n",
    "# 유저가 자신의 이름을 말하거나 이전 질문에 이어지는 질문을 해도 기억을 못하기 때문에 대화를 이해할 수 없음\n",
    "\n",
    "# openai에서 제공하는 기본 api는 langchain없이 사용할 수 있는데\n",
    "# 메모리를 지원하지 않음 -> stateless\n",
    "# 즉, 모델에게 어떤 말을 건네면 모델은 답을 한 직후에 대화 내용을 까먹게 됨 -> 메모리가 없으니까 내용을 저장하지 않음\n",
    "\n",
    "# 챗GPT에는 메모리가 탑재되있기 때문에 실제로 어떤 사람과 얘기하고 있다는 느낌을 들게 함\n",
    "# 챗봇이 이전의 대화 내용이나 질문을 기억하고 답할 수 있으니까\n",
    "\n",
    "# 즉, LLM 모델 자체에는 메모리를 지원하지 않음\n",
    "\n",
    "# 메모리 종류와는 무관하게 API는 다 똑같음\n",
    "# 그래서 모든 메모리는 return_messages 변수, save_context, load_memory_variables 등 이라는 함수를 갖고 있음"
   ]
  },
  {
   "cell_type": "code",
   "execution_count": 2,
   "metadata": {},
   "outputs": [],
   "source": [
    "# 3. Conversation Summary Memory\n",
    "# 메세지를 그대로 저장하는 것이 아니라 대화내용을 요약해서 저장해주는 거\n",
    "\n",
    "# 초반에는 ConversationSummaryMemory는 이전보다 더 많은 토큰과 저장공간을 차지하게 될거\n",
    "# 대화가 진행될수록 내용이 많아질 건데, 그걸 요약하게 되면 ConversationBuffer보다 전체적인 토큰의 양이 상대적으로 줄어들게 됨\n",
    "# -> 대화내용을 토큰 단위로 압축한다는 거라고 생각하면 될듯"
   ]
  },
  {
   "cell_type": "code",
   "execution_count": 2,
   "metadata": {},
   "outputs": [
    {
     "name": "stderr",
     "output_type": "stream",
     "text": [
      "d:\\FULLSTACK-GPT\\env\\Lib\\site-packages\\langchain_core\\_api\\deprecation.py:139: LangChainDeprecationWarning: The class `ChatOpenAI` was deprecated in LangChain 0.0.10 and will be removed in 0.3.0. An updated version of the class exists in the langchain-openai package and should be used instead. To use it run `pip install -U langchain-openai` and import as `from langchain_openai import ChatOpenAI`.\n",
      "  warn_deprecated(\n"
     ]
    }
   ],
   "source": [
    "llm = ChatOpenAI(\n",
    "    model_name=\"gpt-3.5-turbo-1106\",\n",
    "    temperature=0.1,\n",
    ")\n",
    "\n",
    "memory = ConversationSummaryMemory(llm=llm)\n",
    "# 메모리를 실행하는데 비용이 듬"
   ]
  },
  {
   "cell_type": "code",
   "execution_count": 6,
   "metadata": {},
   "outputs": [],
   "source": [
    "def add_message(input, output):\n",
    "    memory.save_context({\"input\": input}, {\"output\": output})\n",
    "\n",
    "\n",
    "def get_history():\n",
    "    return memory.load_memory_variables({})"
   ]
  },
  {
   "cell_type": "code",
   "execution_count": 7,
   "metadata": {},
   "outputs": [],
   "source": [
    "add_message(\"Hi I'm Nicolas, I live in South Korea\", \"Wow that is so cool!\")"
   ]
  },
  {
   "cell_type": "code",
   "execution_count": 9,
   "metadata": {},
   "outputs": [],
   "source": [
    "add_message(\"South Korea is so pretty\", \"I wish I could go!!\")"
   ]
  },
  {
   "cell_type": "code",
   "execution_count": 11,
   "metadata": {},
   "outputs": [
    {
     "data": {
      "text/plain": [
       "{'history': 'The human introduces himself as Nicolas and mentions that he lives in South Korea. The AI responds by expressing admiration for this and expressing a wish to visit.'}"
      ]
     },
     "execution_count": 11,
     "metadata": {},
     "output_type": "execute_result"
    }
   ],
   "source": [
    "get_history()  # 대화 내용을 요약해서 저장함"
   ]
  },
  {
   "cell_type": "code",
   "execution_count": null,
   "metadata": {},
   "outputs": [],
   "source": []
  }
 ],
 "metadata": {
  "kernelspec": {
   "display_name": "env",
   "language": "python",
   "name": "python3"
  },
  "language_info": {
   "codemirror_mode": {
    "name": "ipython",
    "version": 3
   },
   "file_extension": ".py",
   "mimetype": "text/x-python",
   "name": "python",
   "nbconvert_exporter": "python",
   "pygments_lexer": "ipython3",
   "version": "3.11.6"
  }
 },
 "nbformat": 4,
 "nbformat_minor": 2
}

{
 "cells": [
  {
   "cell_type": "code",
   "execution_count": 1,
   "metadata": {},
   "outputs": [],
   "source": [
    "from langchain.memory import ConversationSummaryBufferMemory\n",
    "from langchain.chat_models import ChatOpenAI\n",
    "\n",
    "# from langchain.chains import LLMChain\n",
    "from langchain.schema.runnable import RunnablePassthrough\n",
    "from langchain.prompts import ChatPromptTemplate, MessagesPlaceholder\n",
    "\n",
    "llm = ChatOpenAI(\n",
    "    model_name=\"gpt-3.5-turbo-1106\",\n",
    "    temperature=0.1,\n",
    ")"
   ]
  },
  {
   "cell_type": "code",
   "execution_count": 2,
   "metadata": {},
   "outputs": [],
   "source": [
    "memory = ConversationSummaryBufferMemory(\n",
    "    llm=llm,\n",
    "    max_token_limit=120,\n",
    "    memory_key=\"chat_history\",\n",
    "    return_messages=True,\n",
    ")"
   ]
  },
  {
   "cell_type": "code",
   "execution_count": 3,
   "metadata": {},
   "outputs": [],
   "source": [
    "# LangChain Expression Language(LCEL)를 이용해서 생성된 체인에 메모리를 추가하는 것은 어렵지 않음\n",
    "# 실제로 변경 작업을 할 때 권장되는 방법이고, 현재 Langchain Expression 언어에서 동작하는 방법임\n",
    "\n",
    "# 나중에는 메모리를 추가하는게 LLM 체인을 사용하는 것만큼이나 더 쉬워질 것 -> 지금은 manual 작업을 통해 구성해본거"
   ]
  },
  {
   "cell_type": "code",
   "execution_count": 4,
   "metadata": {},
   "outputs": [],
   "source": [
    "prompt = ChatPromptTemplate.from_messages(\n",
    "    [\n",
    "        (\"system\", \"You are a helpful AI talking to a human\"),\n",
    "        MessagesPlaceholder(variable_name=\"chat_history\"),\n",
    "        (\"human\", \"{question}\"),\n",
    "    ]\n",
    ")\n",
    "\n",
    "memory = ConversationSummaryBufferMemory(\n",
    "    llm=llm,\n",
    "    max_token_limit=120,\n",
    "    memory_key=\"chat_history\",\n",
    "    return_messages=True,  # 문자열말고 message로 출력\n",
    ")\n",
    "\n",
    "# 중요한 점은\n",
    "# 메모리가 변경되지 않는다면, prompt도 변하지 않음"
   ]
  },
  {
   "cell_type": "code",
   "execution_count": 5,
   "metadata": {},
   "outputs": [
    {
     "data": {
      "text/plain": [
       "AIMessage(content='Nice to meet you, Nico! How can I assist you today?')"
      ]
     },
     "execution_count": 5,
     "metadata": {},
     "output_type": "execute_result"
    }
   ],
   "source": [
    "# LLMChain이 아닌 그냥 chain을 만들어주고,\n",
    "chain = prompt | llm\n",
    "\n",
    "chain.invoke(\n",
    "    {\n",
    "        # .predict가 아니라 invoke로 넘겨줌\n",
    "        \"chat_history\": memory.load_memory_variables({})[\"chat_history\"],\n",
    "        \"question\": \"My name is Nico.\",  # 여기에 human 메시지 넣어서 전달\n",
    "    }\n",
    ")\n",
    "\n",
    "# 이렇게 했을때 문제점은 체인을 호출할떄마다 chat_history도 추가해줘야함"
   ]
  },
  {
   "cell_type": "code",
   "execution_count": 20,
   "metadata": {},
   "outputs": [],
   "source": [
    "def load_memory(input):\n",
    "    # RunnablePassthrough는 기본적으로 1개의 argument를 가짐 -> invoke에 전달하는 dictionary\n",
    "    # 왜냐면 chain에 있는 모든 component는 input을 받고 output을 넘겨주기 때문에\n",
    "    # print(input)\n",
    "    return memory.load_memory_variables({})[\"chat_history\"]"
   ]
  },
  {
   "cell_type": "code",
   "execution_count": 15,
   "metadata": {},
   "outputs": [
    {
     "name": "stdout",
     "output_type": "stream",
     "text": [
      "{'question': 'My name is Nico.'}\n"
     ]
    },
    {
     "data": {
      "text/plain": [
       "AIMessage(content='Nice to meet you, Nico! How can I assist you today?')"
      ]
     },
     "execution_count": 15,
     "metadata": {},
     "output_type": "execute_result"
    }
   ],
   "source": [
    "# 더 좋은 방법 -> RunnablePassthrough\n",
    "chain = RunnablePassthrough.assign(chat_history=load_memory) | prompt | llm\n",
    "# chain을 실행하면, 가장 먼저 load_memory 함수를 호출함\n",
    "# 그리고 기본적으로 prompt가 필요로 하는 chat_history key 내부에 넣어줄거\n",
    "# chain.invoke할때 내부에 \"chat_history\":load_memory() 해주는거랑 같음\n",
    "\n",
    "# 기본적으로 RunnablePassthrough는 prompt가 format되기 전에 우리가 함수를 실행시키는걸 허락해줌\n",
    "# .assign을 통해서 우리가 원하는 어떤 값이든 변수에 할당할 수 있음\n",
    "\n",
    "chain.invoke(\n",
    "    {\n",
    "        # 이 부분은 chain의 첫번째 아이템 input이 됨\n",
    "        \"question\": \"My name is Nico.\",  # 여기에 human 메시지 넣어서 전달\n",
    "    }\n",
    ")"
   ]
  },
  {
   "cell_type": "code",
   "execution_count": 17,
   "metadata": {},
   "outputs": [],
   "source": [
    "# chain이 구성되었으면, 이제 각 대화의 결과를 메모리에 저장할 수 있어야함\n",
    "# memory.load_memory_variables({}) # {'chat_history': []} -> 지금은 저장되고 있지 않음\n",
    "# 지금은 메모리를 수동으로 관리하기 때문\n",
    "\n",
    "# 가장 좋은 방법은 체인을 호출하는 함수를 만드는 거\n",
    "\n",
    "\n",
    "def invoke_chain(question):\n",
    "    result = chain.invoke(\n",
    "        {\n",
    "            \"question\": question,\n",
    "        }\n",
    "    )\n",
    "    memory.save_context(\n",
    "        {\"input\": question},  # input은 사용자의 질문이 될거고\n",
    "        {\"output\": result.content},  # output은 그에 대한 결과\n",
    "    )\n",
    "    print(result)"
   ]
  },
  {
   "cell_type": "code",
   "execution_count": 21,
   "metadata": {},
   "outputs": [
    {
     "name": "stdout",
     "output_type": "stream",
     "text": [
      "{'question': 'My name is Nico'}\n",
      "content='Nice to meet you, Nico! How can I assist you today?'\n"
     ]
    }
   ],
   "source": [
    "invoke_chain(\"My name is Nico\")"
   ]
  },
  {
   "cell_type": "code",
   "execution_count": 22,
   "metadata": {},
   "outputs": [
    {
     "name": "stdout",
     "output_type": "stream",
     "text": [
      "{'question': 'What is my name?'}\n",
      "content='Your name is Nico.'\n"
     ]
    }
   ],
   "source": [
    "invoke_chain(\"What is my name?\")"
   ]
  },
  {
   "cell_type": "code",
   "execution_count": null,
   "metadata": {},
   "outputs": [],
   "source": []
  }
 ],
 "metadata": {
  "kernelspec": {
   "display_name": "env",
   "language": "python",
   "name": "python3"
  },
  "language_info": {
   "codemirror_mode": {
    "name": "ipython",
    "version": 3
   },
   "file_extension": ".py",
   "mimetype": "text/x-python",
   "name": "python",
   "nbconvert_exporter": "python",
   "pygments_lexer": "ipython3",
   "version": "3.11.6"
  }
 },
 "nbformat": 4,
 "nbformat_minor": 2
}

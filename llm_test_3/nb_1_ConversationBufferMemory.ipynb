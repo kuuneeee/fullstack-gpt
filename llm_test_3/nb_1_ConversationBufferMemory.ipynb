{
 "cells": [
  {
   "cell_type": "code",
   "execution_count": 5,
   "metadata": {},
   "outputs": [],
   "source": [
    "from langchain.chat_models import ChatOpenAI\n",
    "from langchain.callbacks import StreamingStdOutCallbackHandler\n",
    "from langchain.prompts import PromptTemplate\n",
    "\n",
    "from langchain.memory import ConversationBufferMemory\n",
    "\n",
    "chat = ChatOpenAI(\n",
    "    model_name=\"gpt-3.5-turbo-1106\",\n",
    "    temperature=0.1,\n",
    "    streaming=True,\n",
    "    callbacks=[\n",
    "        StreamingStdOutCallbackHandler(),\n",
    "    ],\n",
    ")"
   ]
  },
  {
   "cell_type": "code",
   "execution_count": 3,
   "metadata": {},
   "outputs": [],
   "source": [
    "# langchain에는 5가지 종류의 메모리가 있음\n",
    "# 챗봇에 메모리를 추가하지 않으면 챗봇은 아무것도 기억할 수 없음\n",
    "# 유저가 자신의 이름을 말하거나 이전 질문에 이어지는 질문을 해도 기억을 못하기 때문에 대화를 이해할 수 없음\n",
    "\n",
    "# openai에서 제공하는 기본 api는 langchain없이 사용할 수 있는데\n",
    "# 메모리를 지원하지 않음 -> stateless\n",
    "# 즉, 모델에게 어떤 말을 건네면 모델은 답을 한 직후에 대화 내용을 까먹게 됨 -> 메모리가 없으니까 내용을 저장하지 않음\n",
    "\n",
    "# 챗GPT에는 메모리가 탑재되있기 때문에 실제로 어떤 사람과 얘기하고 있다는 느낌을 들게 함\n",
    "# 챗봇이 이전의 대화 내용이나 질문을 기억하고 답할 수 있으니까\n",
    "\n",
    "# 즉, LLM 모델 자체에는 메모리를 지원하지 않음\n",
    "\n",
    "# 메모리 종류와는 무관하게 API는 다 똑같음\n",
    "# 그래서 모든 메모리는 return_messages 변수, save_context, load_memory_variables 등 이라는 함수를 갖고 있음"
   ]
  },
  {
   "cell_type": "code",
   "execution_count": 4,
   "metadata": {},
   "outputs": [],
   "source": [
    "# 1. Conversation Buffer Memory\n",
    "# 단순히 이전 대화 내용 전체를 저장하는 메모리\n",
    "\n",
    "# 장점)\n",
    "# 단순하고 간단함 -> 이해하기 쉬움\n",
    "\n",
    "# 단점)\n",
    "# 대화내용이 길어질수록 메모리도 계속 커지니까 비효율적\n",
    "# 모델 자체에는 메모리가 없기 때문에 모델에게 요청을 보낼때 이전 대화기록 전체를 같이 보내야됨 -> 그래야 문맥을 파악할 수 있음\n",
    "\n",
    "# 사용)\n",
    "# text completion할 때 유용\n",
    "# 예측을 해야될때, 텍스트를 자동완성하고 싶을때"
   ]
  },
  {
   "cell_type": "code",
   "execution_count": 10,
   "metadata": {},
   "outputs": [
    {
     "data": {
      "text/plain": [
       "{'history': [HumanMessage(content='Hi!'), AIMessage(content='How are you?')]}"
      ]
     },
     "execution_count": 10,
     "metadata": {},
     "output_type": "execute_result"
    }
   ],
   "source": [
    "memory = ConversationBufferMemory(return_messages=True)\n",
    "\n",
    "memory.save_context({\"input\": \"Hi!\"}, {\"output\": \"How are you?\"})\n",
    "\n",
    "memory.load_memory_variables({})\n",
    "\n",
    "# return_messages=False\n",
    "# {'history': 'Human: Hi!\\nAI: How are you?'}\n",
    "# -> 단순한 String\n",
    "\n",
    "# return_messages=True\n",
    "# {'history': [HumanMessage(content='Hi!'), AIMessage(content='How are you?')]}\n",
    "# -> 챗모델을 사용하기 위해서는 Human Message와 AI Message가 필요하기 때문에 사용"
   ]
  },
  {
   "cell_type": "code",
   "execution_count": 11,
   "metadata": {},
   "outputs": [
    {
     "data": {
      "text/plain": [
       "{'history': [HumanMessage(content='Hi!'),\n",
       "  AIMessage(content='How are you?'),\n",
       "  HumanMessage(content='Hi!'),\n",
       "  AIMessage(content='How are you?'),\n",
       "  HumanMessage(content='Hi!'),\n",
       "  AIMessage(content='How are you?'),\n",
       "  HumanMessage(content='Hi!'),\n",
       "  AIMessage(content='How are you?')]}"
      ]
     },
     "execution_count": 11,
     "metadata": {},
     "output_type": "execute_result"
    }
   ],
   "source": [
    "memory.save_context({\"input\": \"Hi!\"}, {\"output\": \"How are you?\"})\n",
    "memory.save_context({\"input\": \"Hi!\"}, {\"output\": \"How are you?\"})\n",
    "memory.save_context({\"input\": \"Hi!\"}, {\"output\": \"How are you?\"})\n",
    "memory.load_memory_variables({})\n",
    "\n",
    "#  반복해서 호출하면 메모리가 쌓임 -> 전체를 저장하기 때문에"
   ]
  },
  {
   "cell_type": "code",
   "execution_count": null,
   "metadata": {},
   "outputs": [],
   "source": []
  },
  {
   "cell_type": "code",
   "execution_count": null,
   "metadata": {},
   "outputs": [],
   "source": []
  }
 ],
 "metadata": {
  "kernelspec": {
   "display_name": "env",
   "language": "python",
   "name": "python3"
  },
  "language_info": {
   "codemirror_mode": {
    "name": "ipython",
    "version": 3
   },
   "file_extension": ".py",
   "mimetype": "text/x-python",
   "name": "python",
   "nbconvert_exporter": "python",
   "pygments_lexer": "ipython3",
   "version": "3.11.6"
  }
 },
 "nbformat": 4,
 "nbformat_minor": 2
}

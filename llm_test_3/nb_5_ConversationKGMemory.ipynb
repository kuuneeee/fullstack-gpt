{
 "cells": [
  {
   "cell_type": "code",
   "execution_count": 1,
   "metadata": {},
   "outputs": [],
   "source": [
    "from langchain.chat_models import ChatOpenAI\n",
    "\n",
    "from langchain.memory import ConversationKGMemory"
   ]
  },
  {
   "cell_type": "code",
   "execution_count": 2,
   "metadata": {},
   "outputs": [],
   "source": [
    "# langchain에는 5가지 종류의 메모리가 있음\n",
    "# 챗봇에 메모리를 추가하지 않으면 챗봇은 아무것도 기억할 수 없음\n",
    "# 유저가 자신의 이름을 말하거나 이전 질문에 이어지는 질문을 해도 기억을 못하기 때문에 대화를 이해할 수 없음\n",
    "\n",
    "# openai에서 제공하는 기본 api는 langchain없이 사용할 수 있는데\n",
    "# 메모리를 지원하지 않음 -> stateless\n",
    "# 즉, 모델에게 어떤 말을 건네면 모델은 답을 한 직후에 대화 내용을 까먹게 됨 -> 메모리가 없으니까 내용을 저장하지 않음\n",
    "\n",
    "# 챗GPT에는 메모리가 탑재되있기 때문에 실제로 어떤 사람과 얘기하고 있다는 느낌을 들게 함\n",
    "# 챗봇이 이전의 대화 내용이나 질문을 기억하고 답할 수 있으니까\n",
    "\n",
    "# 즉, LLM 모델 자체에는 메모리를 지원하지 않음\n",
    "\n",
    "# 메모리 종류와는 무관하게 API는 다 똑같음\n",
    "# 그래서 모든 메모리는 return_messages 변수, save_context, load_memory_variables 등 이라는 함수를 갖고 있음"
   ]
  },
  {
   "cell_type": "code",
   "execution_count": 3,
   "metadata": {},
   "outputs": [],
   "source": [
    "# 5. Conversation Knowlege Graph Memory\n",
    "# 대화 중 엔티티의 knowledge graph를 만듦\n",
    "# 가장 중요한 것들만 뽑아내는 요약본 같은 거\n",
    "\n",
    "# knowlege graph에서 히스토리를 가지고 오지 않고 엔티티를 가지고 옴"
   ]
  },
  {
   "cell_type": "code",
   "execution_count": 4,
   "metadata": {},
   "outputs": [],
   "source": [
    "llm = ChatOpenAI(\n",
    "    model_name=\"gpt-3.5-turbo-1106\",\n",
    "    temperature=0.1,\n",
    ")\n",
    "\n",
    "memory = ConversationKGMemory(\n",
    "    llm=llm,  # 메모리를 실행하는데 비용이 듬 -> 요약하는데 llm을 사용하고 있기 때문에\n",
    "    return_messages=True,\n",
    ")"
   ]
  },
  {
   "cell_type": "code",
   "execution_count": 5,
   "metadata": {},
   "outputs": [],
   "source": [
    "def add_message(input, output):\n",
    "    memory.save_context({\"input\": input}, {\"output\": output})\n",
    "\n",
    "\n",
    "# def get_history():\n",
    "#     return memory.load_memory_variables({})"
   ]
  },
  {
   "cell_type": "code",
   "execution_count": 6,
   "metadata": {},
   "outputs": [],
   "source": [
    "add_message(\"Hi I'm Nicolas, I live in South Korea\", \"Wow that is so cool!\")"
   ]
  },
  {
   "cell_type": "code",
   "execution_count": 7,
   "metadata": {},
   "outputs": [
    {
     "data": {
      "text/plain": [
       "{'history': [SystemMessage(content='On Nicolas: Nicolas lives in South Korea.')]}"
      ]
     },
     "execution_count": 7,
     "metadata": {},
     "output_type": "execute_result"
    }
   ],
   "source": [
    "memory.load_memory_variables({\"input\": \"who is Nicolas\"})"
   ]
  },
  {
   "cell_type": "code",
   "execution_count": 8,
   "metadata": {},
   "outputs": [],
   "source": [
    "add_message(\"Nicolas likes kimchi\", \"Wow that is so cool!\")"
   ]
  },
  {
   "cell_type": "code",
   "execution_count": 9,
   "metadata": {},
   "outputs": [
    {
     "data": {
      "text/plain": [
       "{'history': [SystemMessage(content='On Nicolas: Nicolas lives in South Korea. Nicolas likes kimchi.')]}"
      ]
     },
     "execution_count": 9,
     "metadata": {},
     "output_type": "execute_result"
    }
   ],
   "source": [
    "memory.load_memory_variables({\"input\": \"what does nicolas like\"})"
   ]
  },
  {
   "cell_type": "code",
   "execution_count": null,
   "metadata": {},
   "outputs": [],
   "source": [
    "# Conversation Token Buffer 등 많은 언급하지 않은 메모리 종류가 있음\n",
    "# python.langchain.com/docs/modules/memory/ 참조\n",
    "\n",
    "# ConversationTokenBufferMemory\n",
    "# interaction의 최대값을 가지고 있는 것 대신에 token의 총 양을 계산하는게 전부임 -> Window Buffer는 히스토리의 개수를 가지고 있음\n",
    "\n",
    "# ConversationEntityMemory\n",
    "# 대화 중의 엔티티를 추출 -> ConversationKGMemory랑 비슷 -> EntityMemory는 출력값이 {'history':\" ... \", 'entities':{k:v, k:v, ... }} 형태\n",
    "\n",
    "# 등등\n",
    "\n",
    "# 추가)\n",
    "# 다양한 데이터베이스를 기반으로 한 integration이 있음\n",
    "# MongoDB나 Postgres 등의 다양한 데이터베이스로 백업할 수 있음"
   ]
  }
 ],
 "metadata": {
  "kernelspec": {
   "display_name": "env",
   "language": "python",
   "name": "python3"
  },
  "language_info": {
   "codemirror_mode": {
    "name": "ipython",
    "version": 3
   },
   "file_extension": ".py",
   "mimetype": "text/x-python",
   "name": "python",
   "nbconvert_exporter": "python",
   "pygments_lexer": "ipython3",
   "version": "3.11.6"
  }
 },
 "nbformat": 4,
 "nbformat_minor": 2
}

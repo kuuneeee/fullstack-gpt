{
 "cells": [
  {
   "cell_type": "code",
   "execution_count": 6,
   "metadata": {},
   "outputs": [],
   "source": [
    "from langchain.llms.openai import OpenAI  # default model : text-davinci-003\n",
    "from langchain.chat_models import ChatOpenAI  # default model : gpt-3.5-turbo"
   ]
  },
  {
   "cell_type": "code",
   "execution_count": 7,
   "metadata": {},
   "outputs": [],
   "source": [
    "# 차이점은??\n",
    "# latest model : gpt-3.5-turbo / text-davinci-003 : lagacy\n",
    "# gpt-3.5-turbo는 text-davinci-003 비용의 1/10\n",
    "# gpt-3.5-turbo는 chat 모드에 최적화 / text-davinci-003는 auto-complete는 제공되지만 chat 모드에 최적화되진 않음\n",
    "\n",
    "# 그러므로, 가능하다면 ChatOpenAI(gpt-3.5-turbo)를 사용할 것"
   ]
  },
  {
   "cell_type": "code",
   "execution_count": 22,
   "metadata": {},
   "outputs": [
    {
     "name": "stderr",
     "output_type": "stream",
     "text": [
      "d:\\FULLSTACK-GPT\\env\\Lib\\site-packages\\langchain\\llms\\openai.py:216: UserWarning: You are trying to use a chat model. This way of initializing it is no longer supported. Instead, please use: `from langchain.chat_models import ChatOpenAI`\n",
      "  warnings.warn(\n",
      "d:\\FULLSTACK-GPT\\env\\Lib\\site-packages\\langchain\\llms\\openai.py:811: UserWarning: You are trying to use a chat model. This way of initializing it is no longer supported. Instead, please use: `from langchain.chat_models import ChatOpenAI`\n",
      "  warnings.warn(\n"
     ]
    }
   ],
   "source": [
    "# llm = OpenAI(model_name=\"gpt-3.5-turbo-1106\")\n",
    "# UserWarning: You are trying to use a chat model. This way of initializing it is no longer supported. Instead, please use: `from langchain.chat_models import ChatOpenAI`\n",
    "# 아래걸로 사용하는걸 추천\n",
    "\n",
    "chat = ChatOpenAI(model_name=\"gpt-3.5-turbo-1106\")\n",
    "# .env에 있는 API 키를 여기에 옵션으로 넣을 수도 있음\n",
    "# .env가 있으면 패키지를 로드할때 자동으로 variable로 load\n",
    "\n",
    "# a = llm.predict(\"How many planets are there?\") # 24.1.4 기준 text-davinci-003 사용중단\n",
    "b = chat.predict(\"How many planets are there?\")\n",
    "\n",
    "# 위에서처럼 질문형태로 입력하지 않아도 됨 -> chat 모드에서\n",
    "# 메세지를 전달하는 것"
   ]
  },
  {
   "cell_type": "code",
   "execution_count": 18,
   "metadata": {},
   "outputs": [
    {
     "data": {
      "text/plain": [
       "'There are eight recognized planets in our solar system: Mercury, Venus, Earth, Mars, Jupiter, Saturn, Uranus, and Neptune.'"
      ]
     },
     "execution_count": 18,
     "metadata": {},
     "output_type": "execute_result"
    }
   ],
   "source": [
    "# a"
   ]
  },
  {
   "cell_type": "code",
   "execution_count": 19,
   "metadata": {},
   "outputs": [
    {
     "data": {
      "text/plain": [
       "'There are eight recognized planets in our solar system: Mercury, Venus, Earth, Mars, Jupiter, Saturn, Uranus, and Neptune. However, there is ongoing debate about the classification of Pluto as a planet, with some considering it a dwarf planet instead.'"
      ]
     },
     "execution_count": 19,
     "metadata": {},
     "output_type": "execute_result"
    }
   ],
   "source": [
    "b"
   ]
  },
  {
   "cell_type": "code",
   "execution_count": null,
   "metadata": {},
   "outputs": [],
   "source": []
  }
 ],
 "metadata": {
  "kernelspec": {
   "display_name": "env",
   "language": "python",
   "name": "python3"
  },
  "language_info": {
   "codemirror_mode": {
    "name": "ipython",
    "version": 3
   },
   "file_extension": ".py",
   "mimetype": "text/x-python",
   "name": "python",
   "nbconvert_exporter": "python",
   "pygments_lexer": "ipython3",
   "version": "3.11.6"
  }
 },
 "nbformat": 4,
 "nbformat_minor": 2
}

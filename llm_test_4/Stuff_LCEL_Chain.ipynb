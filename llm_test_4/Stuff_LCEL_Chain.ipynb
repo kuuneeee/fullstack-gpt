{
 "cells": [
  {
   "cell_type": "code",
   "execution_count": 1,
   "metadata": {},
   "outputs": [],
   "source": [
    "# from langchain.chat_models import ChatOpenAI # -> ChatOpenAI는 langchain_openai에서 import하기\n",
    "from langchain.document_loaders import UnstructuredFileLoader\n",
    "from langchain.text_splitter import CharacterTextSplitter\n",
    "\n",
    "# from langchain.embeddings import OpenAIEmbeddings, CacheBackedEmbeddings # -> OpenAIEmbeddings는 langchain_openai에서 import하기\n",
    "from langchain.embeddings import CacheBackedEmbeddings\n",
    "from langchain_openai import ChatOpenAI, OpenAIEmbeddings\n",
    "\n",
    "from langchain.vectorstores import Chroma, FAISS\n",
    "from langchain.storage import LocalFileStore\n",
    "\n",
    "from langchain.prompts import ChatPromptTemplate\n",
    "from langchain.schema.runnable import RunnablePassthrough\n",
    "\n",
    "\n",
    "llm = ChatOpenAI(\n",
    "    model_name=\"gpt-3.5-turbo-1106\",\n",
    "    temperature=0.1,\n",
    ")\n",
    "\n",
    "cache_dir = LocalFileStore(\"./.cache/\")\n",
    "\n",
    "splitter = CharacterTextSplitter.from_tiktoken_encoder(\n",
    "    separator=\"\\n\",\n",
    "    chunk_size=600,\n",
    "    chunk_overlap=100,\n",
    ")\n",
    "\n",
    "loader = UnstructuredFileLoader(\"./files/chapter_one.docx\")\n",
    "\n",
    "docs = loader.load_and_split(text_splitter=splitter)\n",
    "\n",
    "embeddings = OpenAIEmbeddings()\n",
    "cached_embeddings = CacheBackedEmbeddings.from_bytes_store(embeddings, cache_dir)\n",
    "\n",
    "# vectorstore = Chroma.from_documents(docs, cached_embeddings)\n",
    "vectorstore = FAISS.from_documents(docs, cached_embeddings)"
   ]
  },
  {
   "cell_type": "code",
   "execution_count": 2,
   "metadata": {},
   "outputs": [],
   "source": [
    "prompt = ChatPromptTemplate.from_messages(\n",
    "    [\n",
    "        (\n",
    "            \"system\",\n",
    "            \"You ara a helpful assistant. Answer questions using only the following context. If you don't know the answer just say you don't know, don't make it up:\\n\\n{context}\",\n",
    "        ),\n",
    "        (\"human\", \"{question}\"),\n",
    "    ]\n",
    ")\n",
    "\n",
    "# retirever는 한 개의 string을 입력받고 document들의 list를 출력함\n",
    "retriever = vectorstore.as_retriever()\n",
    "\n",
    "# 기본적인 LLMChain 사용\n",
    "chain = {\"context\": retriever, \"question\": RunnablePassthrough()} | prompt | llm\n",
    "# RunnablePassthrough()는 chain을 invoke할 때 입력된 쿼리를 그대로 입력할 수 있게 함\n",
    "# 입력된 쿼리를 RunnablePassthrough()가 위치한 곳에 입력받을 수 있게 됨"
   ]
  },
  {
   "cell_type": "code",
   "execution_count": 3,
   "metadata": {},
   "outputs": [
    {
     "data": {
      "text/plain": [
       "AIMessage(content='Victory Mansions is a building where Winston Smith resides. It is a dilapidated apartment complex located in Airstrip One, the third most populous province of Oceania. The building is described as having a gritty and unpleasant atmosphere, with a hallway that smells of boiled cabbage and old rag mats. The flat is seven flights up and is equipped with a telescreen, which is a device used for surveillance and communication by the Party.', response_metadata={'token_usage': {'completion_tokens': 90, 'prompt_tokens': 1959, 'total_tokens': 2049}, 'model_name': 'gpt-3.5-turbo-1106', 'system_fingerprint': 'fp_0ccba42292', 'finish_reason': 'stop', 'logprobs': None}, id='run-0eb5f7d4-014b-4346-9bb7-7a1922f76114-0', usage_metadata={'input_tokens': 1959, 'output_tokens': 90, 'total_tokens': 2049})"
      ]
     },
     "execution_count": 3,
     "metadata": {},
     "output_type": "execute_result"
    }
   ],
   "source": [
    "chain.invoke(\"Describe Victory Mansions\")"
   ]
  },
  {
   "cell_type": "code",
   "execution_count": null,
   "metadata": {},
   "outputs": [],
   "source": []
  },
  {
   "cell_type": "code",
   "execution_count": null,
   "metadata": {},
   "outputs": [],
   "source": []
  },
  {
   "cell_type": "code",
   "execution_count": null,
   "metadata": {},
   "outputs": [],
   "source": []
  }
 ],
 "metadata": {
  "kernelspec": {
   "display_name": "env",
   "language": "python",
   "name": "python3"
  },
  "language_info": {
   "codemirror_mode": {
    "name": "ipython",
    "version": 3
   },
   "file_extension": ".py",
   "mimetype": "text/x-python",
   "name": "python",
   "nbconvert_exporter": "python",
   "pygments_lexer": "ipython3",
   "version": "3.11.6"
  }
 },
 "nbformat": 4,
 "nbformat_minor": 2
}

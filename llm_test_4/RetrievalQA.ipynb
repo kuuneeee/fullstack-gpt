{
 "cells": [
  {
   "cell_type": "code",
   "execution_count": 1,
   "metadata": {},
   "outputs": [],
   "source": [
    "# 이제 document chain을 사용해 볼거임\n",
    "# document를 이용해 LLM에게 질문을 한다는 거\n",
    "\n",
    "# 그전에 우선 off-the-shelf chain을 사용할 거\n",
    "# 그 다음에 LangChain Expression Language(LCEL)로 만들거\n",
    "\n",
    "# 강의 영상 촬영당시에는 memory 파트에서 해봤던 LLMChain은 legacy가 됨\n",
    "# 그리고 LCEL을 사용할 것을 권장하는 중 -> 한눈에 보기 쉽기 때문에\n",
    "\n",
    "# off-the-shelf chain은 더 높은 수준의 작업을 수행하기 위한 기본적인 컴포넌트의 어셈블리\n",
    "# off-the-shelf chain으로 document chain을 생성하는 방식은 다양하게 있음 -> stuff, refine, map reduce, map re-rank"
   ]
  },
  {
   "cell_type": "code",
   "execution_count": 2,
   "metadata": {},
   "outputs": [],
   "source": [
    "# from langchain.chat_models import ChatOpenAI # -> ChatOpenAI는 langchain_openai에서 import하기\n",
    "from langchain.document_loaders import UnstructuredFileLoader\n",
    "from langchain.text_splitter import CharacterTextSplitter\n",
    "\n",
    "# from langchain.embeddings import OpenAIEmbeddings, CacheBackedEmbeddings # -> OpenAIEmbeddings는 langchain_openai에서 import하기\n",
    "from langchain.embeddings import CacheBackedEmbeddings\n",
    "from langchain_openai import ChatOpenAI, OpenAIEmbeddings\n",
    "\n",
    "from langchain.vectorstores import Chroma, FAISS\n",
    "from langchain.storage import LocalFileStore\n",
    "\n",
    "from langchain.chains import RetrievalQA\n",
    "\n",
    "\n",
    "llm = ChatOpenAI(\n",
    "    model_name=\"gpt-3.5-turbo-1106\",\n",
    "    temperature=0.1,\n",
    ")\n",
    "\n",
    "cache_dir = LocalFileStore(\"./.cache/\")\n",
    "\n",
    "splitter = CharacterTextSplitter.from_tiktoken_encoder(\n",
    "    separator=\"\\n\",\n",
    "    chunk_size=600,\n",
    "    chunk_overlap=100,\n",
    ")\n",
    "\n",
    "loader = UnstructuredFileLoader(\"./files/chapter_one.docx\")\n",
    "\n",
    "docs = loader.load_and_split(text_splitter=splitter)\n",
    "\n",
    "embeddings = OpenAIEmbeddings()\n",
    "cached_embeddings = CacheBackedEmbeddings.from_bytes_store(embeddings, cache_dir)\n",
    "\n",
    "# vectorstore = Chroma.from_documents(docs, cached_embeddings)\n",
    "vectorstore = FAISS.from_documents(docs, cached_embeddings)"
   ]
  },
  {
   "cell_type": "code",
   "execution_count": 3,
   "metadata": {},
   "outputs": [],
   "source": [
    "# 1) stuff는 쿼리를 입력하면 그와 관계있는 document들을 찾고, 한번에 llm에 입력해서 prompt를 stuff(채우기) 하는데 사용한다는 거\n",
    "# (query, docs1, docs2, docs3, ...)\n",
    "\n",
    "chain = RetrievalQA.from_chain_type(\n",
    "    llm=llm,\n",
    "    chain_type=\"map_rerank\",  # default = stuff\n",
    "    retriever=vectorstore.as_retriever(),\n",
    "    # retriever는 document를 많은 장소로부터 retrieve(선별하여 가져오기) 할 수 있게 하는 클래스의 인터페이스\n",
    "    # 여기서 많은 장소는 vetor store 뿐만 아니라, cloud, DB 등을 말함\n",
    "    # Retriever docs 내용\n",
    "    # retriever는 구조화되지 않은 쿼리를 해석하여 document를 반환함 -> vetor store보다 일반적인 개념\n",
    "    # retriever의 document store(문서 저장) 기능은 필수가 아님 -> 반환만 하면 됨\n",
    "    # vector store를 retriever의 Backbone으로 사용할 수 있으나, 그렇지 않은 경우도 있음\n",
    ")"
   ]
  },
  {
   "cell_type": "code",
   "execution_count": null,
   "metadata": {},
   "outputs": [],
   "source": [
    "# chain.run(\"Where does Winston live?\")"
   ]
  },
  {
   "cell_type": "code",
   "execution_count": 5,
   "metadata": {},
   "outputs": [
    {
     "name": "stderr",
     "output_type": "stream",
     "text": [
      "d:\\FULLSTACK-GPT\\env\\Lib\\site-packages\\langchain_core\\_api\\deprecation.py:139: LangChainDeprecationWarning: The method `Chain.__call__` was deprecated in langchain 0.1.0 and will be removed in 0.3.0. Use invoke instead.\n",
      "  warn_deprecated(\n",
      "d:\\FULLSTACK-GPT\\env\\Lib\\site-packages\\langchain\\chains\\llm.py:369: UserWarning: The apply_and_parse method is deprecated, instead pass an output parser directly to LLMChain.\n",
      "  warnings.warn(\n"
     ]
    },
    {
     "data": {
      "text/plain": [
       "{'query': 'Describe Victory Mansions',\n",
       " 'result': 'Victory Mansions is a building with a gritty hallway that smells of boiled cabbage and old rag mats. The building has a poster with a large face and is equipped with a telescreen that cannot be shut off completely.'}"
      ]
     },
     "execution_count": 5,
     "metadata": {},
     "output_type": "execute_result"
    }
   ],
   "source": [
    "# chain.run(\"Describe Victory Mansions\")\n",
    "\n",
    "chain(\n",
    "    {\"query\": \"Describe Victory Mansions\"}\n",
    ")  # map_rerank에서는 template을 맞춰줘야 작동함"
   ]
  },
  {
   "cell_type": "code",
   "execution_count": null,
   "metadata": {},
   "outputs": [],
   "source": [
    "# 2) refine은 모든 document를 돌면서 답변의 정확도를 높이는 방법임 (정제)\n",
    "# (query, docs1, docs2, docs3, ...)\n",
    "# -> 하나의 document를 읽고 거기있는 정보로 답변을 업데이트해가는 것\n",
    "# -> 비용 비쌈\n",
    "\n",
    "# 3) map reduce는 document들을 입력받아서, 개별적으로 요약작업을 수행함 -> 그리고 요약결과들을 llm에 넘겨주고 답변을 생성\n",
    "# (docs1), (docs2), (docs3), ...\n",
    "# -> 원래는 하둡에서 많은 양의 데이터를 처리하는 방법임 -> 각각의 데이터(문서)를 일정크기로 mapping하고 그걸 축소(reduce)하는 작업\n",
    "# -> 크고 많은 연산이 필요함 -> 비용 비쌈\n",
    "\n",
    "# 4) map re-rank는 쿼리와 관련된 document들을 쌍을 지어 llm에 넘겨 답변을 생성하고, 각 답변에 점수를 매김\n",
    "# (query, docs1), (query, docs2), (query, docs3), ...\n",
    "# -> 최종적으로 가장 높은 점수를 획득한 답변과 그 점수를 함께 반환함\n",
    "\n",
    "# RetrievalQA의 특징 중 하나는 chain_type을 쉽게 바꿀 수 있음 -> stuff, refine, map_reduce, map_rerank\n",
    "# 근데 LCEL이 보편적이고 off-the-shelf chain는 legacy이기 때문에 나중에도 쓸 수 있을지는 모름"
   ]
  }
 ],
 "metadata": {
  "kernelspec": {
   "display_name": "env",
   "language": "python",
   "name": "python3"
  },
  "language_info": {
   "codemirror_mode": {
    "name": "ipython",
    "version": 3
   },
   "file_extension": ".py",
   "mimetype": "text/x-python",
   "name": "python",
   "nbconvert_exporter": "python",
   "pygments_lexer": "ipython3",
   "version": "3.11.6"
  }
 },
 "nbformat": 4,
 "nbformat_minor": 2
}
